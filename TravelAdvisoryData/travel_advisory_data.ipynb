{
 "cells": [
  {
   "cell_type": "markdown",
   "metadata": {},
   "source": [
    "# Travel Advisory Data"
   ]
  },
  {
   "cell_type": "markdown",
   "metadata": {
    "vscode": {
     "languageId": "plaintext"
    }
   },
   "source": [
    "## Import Packages"
   ]
  },
  {
   "cell_type": "code",
   "execution_count": 1,
   "metadata": {
    "vscode": {
     "languageId": "powershell"
    }
   },
   "outputs": [
    {
     "name": "stdout",
     "output_type": "stream",
     "text": [
      "Requirement already satisfied: xmltodict in /Users/pearlynn/anaconda3/lib/python3.11/site-packages (0.14.2)\r\n"
     ]
    }
   ],
   "source": [
    "!pip install xmltodict"
   ]
  },
  {
   "cell_type": "code",
   "execution_count": 2,
   "metadata": {
    "vscode": {
     "languageId": "powershell"
    }
   },
   "outputs": [
    {
     "name": "stdout",
     "output_type": "stream",
     "text": [
      "Requirement already satisfied: beautifulsoup4 in /Users/pearlynn/anaconda3/lib/python3.11/site-packages (4.12.2)\r\n",
      "Requirement already satisfied: soupsieve>1.2 in /Users/pearlynn/anaconda3/lib/python3.11/site-packages (from beautifulsoup4) (2.4)\r\n"
     ]
    }
   ],
   "source": [
    "!pip install beautifulsoup4"
   ]
  },
  {
   "cell_type": "code",
   "execution_count": 3,
   "metadata": {},
   "outputs": [],
   "source": [
    "import json\n",
    "import re\n",
    "import xmltodict\n",
    "import pandas as pd\n",
    "from bs4 import BeautifulSoup"
   ]
  },
  {
   "cell_type": "markdown",
   "metadata": {},
   "source": [
    "## Load Datasets"
   ]
  },
  {
   "cell_type": "code",
   "execution_count": 4,
   "metadata": {},
   "outputs": [],
   "source": [
    "def load_json_data(json_file_path):\n",
    "    with open(json_file_path, 'r') as f:\n",
    "        data = json.load(f)\n",
    "    return data\n",
    "\n",
    "def load_xml_data(xml_file_path):\n",
    "    with open(xml_file_path, 'r') as f:\n",
    "        xml_content = f.read()\n",
    "        # Replace &nbsp; with its numeric reference\n",
    "        xml_content = xml_content.replace(\"&nbsp;\", \"&#160;\")\n",
    "        # Fix unclosed <br> tags\n",
    "        xml_content = xml_content.replace('<br _rte_temp_br=\"brEOB\">', '<br _rte_temp_br=\"brEOB\" />')\n",
    "        xml_content = xml_content.replace('<br>', '<br />')\n",
    "        # Use regex to find all <img ...> tags that are not self-closed\n",
    "        # Pattern explanation: find <img ...> tags without a closing /\n",
    "        xml_content = re.sub(r'<img(.*?)(?<!/)>', r'<img\\1/>', xml_content)\n",
    "        data = xmltodict.parse(xml_content)\n",
    "    return data"
   ]
  },
  {
   "cell_type": "code",
   "execution_count": 5,
   "metadata": {},
   "outputs": [],
   "source": [
    "country_travel_info_json_data = load_json_data('./country_travel_info.json')\n",
    "travel_advisory_xml_data = load_xml_data('./travel_advisory.xml')"
   ]
  },
  {
   "cell_type": "markdown",
   "metadata": {},
   "source": [
    "## Extract Data"
   ]
  },
  {
   "cell_type": "code",
   "execution_count": 6,
   "metadata": {},
   "outputs": [],
   "source": [
    "def clean_html(html_content):\n",
    "    # Parse HTML and extract text\n",
    "    soup = BeautifulSoup(html_content, 'html.parser')\n",
    "    return soup.get_text(separator=' ', strip=True)\n",
    "\n",
    "def extract_json_data(json_data):\n",
    "    extracted_data = []\n",
    "    for country_info in json_data:\n",
    "        geopolitical_area = country_info.get('geopoliticalarea')\n",
    "        safety_and_security = clean_html(country_info.get('safety_and_security', 'No info available'))\n",
    "        health = clean_html(country_info.get('health', 'No info available'))\n",
    "        local_laws = clean_html(country_info.get('local_laws_and_special_circumstances', 'No info available'))\n",
    "        \n",
    "        # Extract relevant information\n",
    "        extracted_data.append({\n",
    "            'Country': geopolitical_area,\n",
    "            'Safety and Security': safety_and_security,\n",
    "            'Health': health,\n",
    "            'Local Laws': local_laws\n",
    "        })\n",
    "    return extracted_data\n",
    "\n",
    "def extract_xml_data(xml_data):\n",
    "    extracted_data = []\n",
    "    entries = xml_data['feed']['entry']\n",
    "    \n",
    "    for entry in entries:\n",
    "        title_text = entry['title'].get('#text', '')\n",
    "        country_name = title_text.split(' - ')[0].strip()\n",
    "        advisory_level = ''\n",
    "        for category in entry['category']:\n",
    "            if category.get('@label') == 'Threat-Level':\n",
    "                advisory_level = category.get('@term', '')\n",
    "                break\n",
    "#         summary_html = entry['summary'].get('#text', '')\n",
    "#         summary = BeautifulSoup(summary_html, 'html.parser').get_text()\n",
    "        \n",
    "        # Extract relevant information\n",
    "        extracted_data.append({\n",
    "            'Country': country_name,\n",
    "            'Advisory Level': advisory_level,\n",
    "#             'Summary': summary\n",
    "        })\n",
    "    return extracted_data"
   ]
  },
  {
   "cell_type": "code",
   "execution_count": 7,
   "metadata": {},
   "outputs": [],
   "source": [
    "country_info_extracted_data = extract_json_data(country_travel_info_json_data)\n",
    "advisory_extracted_data = extract_xml_data(travel_advisory_xml_data)"
   ]
  },
  {
   "cell_type": "code",
   "execution_count": 8,
   "metadata": {},
   "outputs": [],
   "source": [
    "df_country_info = pd.DataFrame(country_info_extracted_data)\n",
    "df_advisory = pd.DataFrame(advisory_extracted_data)"
   ]
  },
  {
   "cell_type": "markdown",
   "metadata": {},
   "source": [
    "## Save Data to CSV"
   ]
  },
  {
   "cell_type": "code",
   "execution_count": null,
   "metadata": {},
   "outputs": [],
   "source": [
    "df_country_info.to_csv('country_info_extracted_data.csv', index=False)\n",
    "df_advisory.to_csv('advisory_extracted_data.csv', index=False)"
   ]
  },
  {
   "cell_type": "markdown",
   "metadata": {},
   "source": [
    "## Data Exploration & Preparation"
   ]
  },
  {
   "cell_type": "code",
   "execution_count": 9,
   "metadata": {},
   "outputs": [
    {
     "data": {
      "text/html": [
       "<div>\n",
       "<style scoped>\n",
       "    .dataframe tbody tr th:only-of-type {\n",
       "        vertical-align: middle;\n",
       "    }\n",
       "\n",
       "    .dataframe tbody tr th {\n",
       "        vertical-align: top;\n",
       "    }\n",
       "\n",
       "    .dataframe thead th {\n",
       "        text-align: right;\n",
       "    }\n",
       "</style>\n",
       "<table border=\"1\" class=\"dataframe\">\n",
       "  <thead>\n",
       "    <tr style=\"text-align: right;\">\n",
       "      <th></th>\n",
       "      <th>Country</th>\n",
       "      <th>Safety and Security</th>\n",
       "      <th>Health</th>\n",
       "      <th>Local Laws</th>\n",
       "    </tr>\n",
       "  </thead>\n",
       "  <tbody>\n",
       "    <tr>\n",
       "      <th>0</th>\n",
       "      <td>Afghanistan</td>\n",
       "      <td>The security situation is extremely unstable a...</td>\n",
       "      <td>For emergency services in Afghanistan, dial 11...</td>\n",
       "      <td>Criminal Penalties: U.S. citizens in Afghanist...</td>\n",
       "    </tr>\n",
       "    <tr>\n",
       "      <th>1</th>\n",
       "      <td>Albania</td>\n",
       "      <td>Terrorism: Some terrorist groups and those ins...</td>\n",
       "      <td>For emergency services in Albania, dial 112 fo...</td>\n",
       "      <td>Criminal Penalties: You are subject to local l...</td>\n",
       "    </tr>\n",
       "    <tr>\n",
       "      <th>2</th>\n",
       "      <td>Algeria</td>\n",
       "      <td>Terrorism: Terrorist groups and individuals in...</td>\n",
       "      <td>For emergency services in Algeria, dial 021711...</td>\n",
       "      <td>Criminal Penalties: You are subject to local l...</td>\n",
       "    </tr>\n",
       "    <tr>\n",
       "      <th>3</th>\n",
       "      <td>Andorra</td>\n",
       "      <td>Terrorism: Terrorist groups and those inspired...</td>\n",
       "      <td>Good medical care is available in Andorra. Reg...</td>\n",
       "      <td>Criminal Penalties: You are subject to local l...</td>\n",
       "    </tr>\n",
       "    <tr>\n",
       "      <th>4</th>\n",
       "      <td>Angola</td>\n",
       "      <td>Both spontaneous and planned civil disturbance...</td>\n",
       "      <td>Medical facilities and services, including eme...</td>\n",
       "      <td>Criminal Penalties: You are subject to local l...</td>\n",
       "    </tr>\n",
       "  </tbody>\n",
       "</table>\n",
       "</div>"
      ],
      "text/plain": [
       "       Country                                Safety and Security  \\\n",
       "0  Afghanistan  The security situation is extremely unstable a...   \n",
       "1      Albania  Terrorism: Some terrorist groups and those ins...   \n",
       "2      Algeria  Terrorism: Terrorist groups and individuals in...   \n",
       "3      Andorra  Terrorism: Terrorist groups and those inspired...   \n",
       "4       Angola  Both spontaneous and planned civil disturbance...   \n",
       "\n",
       "                                              Health  \\\n",
       "0  For emergency services in Afghanistan, dial 11...   \n",
       "1  For emergency services in Albania, dial 112 fo...   \n",
       "2  For emergency services in Algeria, dial 021711...   \n",
       "3  Good medical care is available in Andorra. Reg...   \n",
       "4  Medical facilities and services, including eme...   \n",
       "\n",
       "                                          Local Laws  \n",
       "0  Criminal Penalties: U.S. citizens in Afghanist...  \n",
       "1  Criminal Penalties: You are subject to local l...  \n",
       "2  Criminal Penalties: You are subject to local l...  \n",
       "3  Criminal Penalties: You are subject to local l...  \n",
       "4  Criminal Penalties: You are subject to local l...  "
      ]
     },
     "execution_count": 9,
     "metadata": {},
     "output_type": "execute_result"
    }
   ],
   "source": [
    "df_country_info.head()"
   ]
  },
  {
   "cell_type": "code",
   "execution_count": 10,
   "metadata": {},
   "outputs": [
    {
     "data": {
      "text/html": [
       "<div>\n",
       "<style scoped>\n",
       "    .dataframe tbody tr th:only-of-type {\n",
       "        vertical-align: middle;\n",
       "    }\n",
       "\n",
       "    .dataframe tbody tr th {\n",
       "        vertical-align: top;\n",
       "    }\n",
       "\n",
       "    .dataframe thead th {\n",
       "        text-align: right;\n",
       "    }\n",
       "</style>\n",
       "<table border=\"1\" class=\"dataframe\">\n",
       "  <thead>\n",
       "    <tr style=\"text-align: right;\">\n",
       "      <th></th>\n",
       "      <th>Country</th>\n",
       "      <th>Advisory Level</th>\n",
       "    </tr>\n",
       "  </thead>\n",
       "  <tbody>\n",
       "    <tr>\n",
       "      <th>0</th>\n",
       "      <td>Turkey</td>\n",
       "      <td>Level 2: Exercise Increased Caution</td>\n",
       "    </tr>\n",
       "    <tr>\n",
       "      <th>1</th>\n",
       "      <td>The Gambia</td>\n",
       "      <td>Level 2: Exercise Increased Caution</td>\n",
       "    </tr>\n",
       "    <tr>\n",
       "      <th>2</th>\n",
       "      <td>Egypt</td>\n",
       "      <td>Level 3: Reconsider Travel</td>\n",
       "    </tr>\n",
       "    <tr>\n",
       "      <th>3</th>\n",
       "      <td>Canada</td>\n",
       "      <td>Level 1: Exercise Normal Precautions</td>\n",
       "    </tr>\n",
       "    <tr>\n",
       "      <th>4</th>\n",
       "      <td>Rwanda</td>\n",
       "      <td>Level 3: Reconsider Travel</td>\n",
       "    </tr>\n",
       "  </tbody>\n",
       "</table>\n",
       "</div>"
      ],
      "text/plain": [
       "      Country                        Advisory Level\n",
       "0      Turkey   Level 2: Exercise Increased Caution\n",
       "1  The Gambia   Level 2: Exercise Increased Caution\n",
       "2       Egypt            Level 3: Reconsider Travel\n",
       "3      Canada  Level 1: Exercise Normal Precautions\n",
       "4      Rwanda            Level 3: Reconsider Travel"
      ]
     },
     "execution_count": 10,
     "metadata": {},
     "output_type": "execute_result"
    }
   ],
   "source": [
    "df_advisory.head()"
   ]
  },
  {
   "cell_type": "code",
   "execution_count": null,
   "metadata": {},
   "outputs": [],
   "source": []
  }
 ],
 "metadata": {
  "kernelspec": {
   "display_name": "Python 3 (ipykernel)",
   "language": "python",
   "name": "python3"
  },
  "language_info": {
   "codemirror_mode": {
    "name": "ipython",
    "version": 3
   },
   "file_extension": ".py",
   "mimetype": "text/x-python",
   "name": "python",
   "nbconvert_exporter": "python",
   "pygments_lexer": "ipython3",
   "version": "3.11.5"
  }
 },
 "nbformat": 4,
 "nbformat_minor": 2
}
