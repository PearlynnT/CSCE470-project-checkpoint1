{
 "cells": [
  {
   "cell_type": "markdown",
   "metadata": {},
   "source": [
    "# Travel Advisory Data"
   ]
  },
  {
   "cell_type": "code",
   "execution_count": 1,
   "metadata": {},
   "outputs": [
    {
     "ename": "ModuleNotFoundError",
     "evalue": "No module named 'xmltodict'",
     "output_type": "error",
     "traceback": [
      "\u001b[0;31m---------------------------------------------------------------------------\u001b[0m",
      "\u001b[0;31mModuleNotFoundError\u001b[0m                       Traceback (most recent call last)",
      "Cell \u001b[0;32mIn[1], line 2\u001b[0m\n\u001b[1;32m      1\u001b[0m \u001b[38;5;28;01mimport\u001b[39;00m \u001b[38;5;21;01mjson\u001b[39;00m\n\u001b[0;32m----> 2\u001b[0m \u001b[38;5;28;01mimport\u001b[39;00m \u001b[38;5;21;01mxmltodict\u001b[39;00m\n\u001b[1;32m      3\u001b[0m \u001b[38;5;28;01mimport\u001b[39;00m \u001b[38;5;21;01mpandas\u001b[39;00m \u001b[38;5;28;01mas\u001b[39;00m \u001b[38;5;21;01mpd\u001b[39;00m\n",
      "\u001b[0;31mModuleNotFoundError\u001b[0m: No module named 'xmltodict'"
     ]
    }
   ],
   "source": [
    "import json\n",
    "import xmltodict\n",
    "import pandas as pd"
   ]
  },
  {
   "cell_type": "markdown",
   "metadata": {
    "vscode": {
     "languageId": "plaintext"
    }
   },
   "source": [
    "## Import Packages"
   ]
  },
  {
   "cell_type": "markdown",
   "metadata": {},
   "source": [
    "## Load Datasets"
   ]
  },
  {
   "cell_type": "code",
   "execution_count": null,
   "metadata": {},
   "outputs": [],
   "source": [
    "def load_json_data(json_file_path):\n",
    "    with open(json_file_path, 'r') as f:\n",
    "        data = json.load(f)\n",
    "    return data\n",
    "\n",
    "def load_xml_data(xml_file_path):\n",
    "    with open(xml_file_path, 'r') as f:\n",
    "        data = xmltodict.parse(f.read())\n",
    "    return data"
   ]
  },
  {
   "cell_type": "code",
   "execution_count": null,
   "metadata": {},
   "outputs": [],
   "source": [
    "country_travel_info_json_data = load_json_data('./country_travel_info.json')\n",
    "travel_advisory_xml_data = load_xml_data('./travel_advisory.xml')"
   ]
  },
  {
   "cell_type": "markdown",
   "metadata": {},
   "source": [
    "## Extract Data"
   ]
  },
  {
   "cell_type": "code",
   "execution_count": null,
   "metadata": {},
   "outputs": [],
   "source": [
    "def extract_json_data(json_data):\n",
    "    extracted_data = []\n",
    "    for country_info in json_data:\n",
    "        geopolitical_area = country_info.get('geopoliticalarea')\n",
    "        safety_and_security = country_info.get('safety_and_security', 'No info available')\n",
    "        health = country_info.get('health', 'No info available')\n",
    "        local_laws = country_info.get('local_laws_and_special_circumstances', 'No info available')\n",
    "        \n",
    "        # Extract relevant information\n",
    "        extracted_data.append({\n",
    "            'Country': geopolitical_area,\n",
    "            'Safety and Security': safety_and_security,\n",
    "            'Health': health,\n",
    "            'Local Laws': local_laws\n",
    "        })\n",
    "    return extracted_data\n",
    "\n",
    "def extract_xml_data(xml_data):\n",
    "    extracted_data = []\n",
    "    entries = xml_data['feed']['entry']\n",
    "    \n",
    "    for entry in entries:\n",
    "        country_name = entry['title']\n",
    "        advisory_level = entry['category'][1]['@term']\n",
    "        summary = entry['summary']['#text']\n",
    "        \n",
    "        # Extract relevant information\n",
    "        extracted_data.append({\n",
    "            'Country': country_name,\n",
    "            'Advisory Level': advisory_level,\n",
    "            'Summary': summary\n",
    "        })\n",
    "    return extracted_data"
   ]
  },
  {
   "cell_type": "code",
   "execution_count": null,
   "metadata": {},
   "outputs": [],
   "source": [
    "country_info_extracted_data = extract_json_data(country_travel_info_json_data)\n",
    "advisory_extracted_data = extract_xml_data(travel_advisory_xml_data)"
   ]
  },
  {
   "cell_type": "code",
   "execution_count": null,
   "metadata": {},
   "outputs": [],
   "source": [
    "df_country_info = pd.DataFrame(country_info_extracted_data)\n",
    "df_advisory = pd.DataFrame(advisory_extracted_data)"
   ]
  },
  {
   "cell_type": "markdown",
   "metadata": {},
   "source": [
    "## Save Data to CSV"
   ]
  },
  {
   "cell_type": "code",
   "execution_count": null,
   "metadata": {},
   "outputs": [],
   "source": [
    "df_country_info.to_csv('country_info_extracted_data.csv', index=False)\n",
    "df_advisory.to_csv('advisory_extracted_data.csv', index=False)"
   ]
  },
  {
   "cell_type": "markdown",
   "metadata": {},
   "source": [
    "## Data Exploration & Preparation"
   ]
  },
  {
   "cell_type": "code",
   "execution_count": null,
   "metadata": {},
   "outputs": [],
   "source": [
    "df_country_info.head()"
   ]
  },
  {
   "cell_type": "code",
   "execution_count": null,
   "metadata": {},
   "outputs": [],
   "source": [
    "df_advisory.head()"
   ]
  }
 ],
 "metadata": {
  "kernelspec": {
   "display_name": "Python 3 (ipykernel)",
   "language": "python",
   "name": "python3"
  },
  "language_info": {
   "codemirror_mode": {
    "name": "ipython",
    "version": 3
   },
   "file_extension": ".py",
   "mimetype": "text/x-python",
   "name": "python",
   "nbconvert_exporter": "python",
   "pygments_lexer": "ipython3",
   "version": "3.11.5"
  }
 },
 "nbformat": 4,
 "nbformat_minor": 2
}
