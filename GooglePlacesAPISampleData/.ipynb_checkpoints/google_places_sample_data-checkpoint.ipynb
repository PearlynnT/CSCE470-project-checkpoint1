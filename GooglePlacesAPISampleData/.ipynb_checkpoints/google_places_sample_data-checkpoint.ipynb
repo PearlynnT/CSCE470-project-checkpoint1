{
 "cells": [
  {
   "cell_type": "markdown",
   "metadata": {},
   "source": [
    "# Google Places Sample Data"
   ]
  },
  {
   "cell_type": "markdown",
   "metadata": {},
   "source": [
    "## Import Packages"
   ]
  },
  {
   "cell_type": "code",
   "execution_count": 1,
   "metadata": {
    "vscode": {
     "languageId": "powershell"
    }
   },
   "outputs": [
    {
     "name": "stdout",
     "output_type": "stream",
     "text": [
      "Requirement already satisfied: python-dotenv in /Users/pearlynn/anaconda3/lib/python3.11/site-packages (0.21.0)\r\n"
     ]
    }
   ],
   "source": [
    "!pip install python-dotenv"
   ]
  },
  {
   "cell_type": "code",
   "execution_count": 2,
   "metadata": {
    "vscode": {
     "languageId": "powershell"
    }
   },
   "outputs": [
    {
     "name": "stdout",
     "output_type": "stream",
     "text": [
      "Collecting folium\n",
      "  Obtaining dependency information for folium from https://files.pythonhosted.org/packages/ae/6d/18a7546e1748ecdd6ed7cd00d3f183faf1df08bd4f5e5e0eb3e72458b862/folium-0.17.0-py2.py3-none-any.whl.metadata\n",
      "  Downloading folium-0.17.0-py2.py3-none-any.whl.metadata (3.8 kB)\n",
      "Collecting geopandas\n",
      "  Obtaining dependency information for geopandas from https://files.pythonhosted.org/packages/c4/64/7d344cfcef5efddf9cf32f59af7f855828e9d74b5f862eddf5bfd9f25323/geopandas-1.0.1-py3-none-any.whl.metadata\n",
      "  Downloading geopandas-1.0.1-py3-none-any.whl.metadata (2.2 kB)\n",
      "Collecting branca>=0.6.0 (from folium)\n",
      "  Obtaining dependency information for branca>=0.6.0 from https://files.pythonhosted.org/packages/fc/be/720f85abacd654ec86f1431bc7c004eae74417bd9d0e7a2bc43601062627/branca-0.8.0-py3-none-any.whl.metadata\n",
      "  Downloading branca-0.8.0-py3-none-any.whl.metadata (1.5 kB)\n",
      "Requirement already satisfied: jinja2>=2.9 in /Users/pearlynn/anaconda3/lib/python3.11/site-packages (from folium) (3.1.2)\n",
      "Requirement already satisfied: numpy in /Users/pearlynn/anaconda3/lib/python3.11/site-packages (from folium) (1.24.3)\n",
      "Requirement already satisfied: requests in /Users/pearlynn/anaconda3/lib/python3.11/site-packages (from folium) (2.31.0)\n",
      "Requirement already satisfied: xyzservices in /Users/pearlynn/anaconda3/lib/python3.11/site-packages (from folium) (2022.9.0)\n",
      "Collecting pyogrio>=0.7.2 (from geopandas)\n",
      "  Obtaining dependency information for pyogrio>=0.7.2 from https://files.pythonhosted.org/packages/8d/2c/c761e6adeb81bd4029a137b3240e7214a8c9aaf225883356196afd6ef9d8/pyogrio-0.10.0-cp311-cp311-macosx_12_0_arm64.whl.metadata\n",
      "  Downloading pyogrio-0.10.0-cp311-cp311-macosx_12_0_arm64.whl.metadata (5.5 kB)\n",
      "Requirement already satisfied: packaging in /Users/pearlynn/anaconda3/lib/python3.11/site-packages (from geopandas) (23.1)\n",
      "Requirement already satisfied: pandas>=1.4.0 in /Users/pearlynn/anaconda3/lib/python3.11/site-packages (from geopandas) (2.0.3)\n",
      "Collecting pyproj>=3.3.0 (from geopandas)\n",
      "  Downloading pyproj-3.7.0.tar.gz (225 kB)\n",
      "\u001b[2K     \u001b[90m━━━━━━━━━━━━━━━━━━━━━━━━━━━━━━━━━━━━━━━\u001b[0m \u001b[32m225.6/225.6 kB\u001b[0m \u001b[31m1.8 MB/s\u001b[0m eta \u001b[36m0:00:00\u001b[0m00:01\u001b[0m00:01\u001b[0m\n",
      "\u001b[?25h  Installing build dependencies ... \u001b[?25ldone\n",
      "\u001b[?25h  Getting requirements to build wheel ... \u001b[?25lerror\n",
      "  \u001b[1;31merror\u001b[0m: \u001b[1msubprocess-exited-with-error\u001b[0m\n",
      "  \n",
      "  \u001b[31m×\u001b[0m \u001b[32mGetting requirements to build wheel\u001b[0m did not run successfully.\n",
      "  \u001b[31m│\u001b[0m exit code: \u001b[1;36m1\u001b[0m\n",
      "  \u001b[31m╰─>\u001b[0m \u001b[31m[1 lines of output]\u001b[0m\n",
      "  \u001b[31m   \u001b[0m proj executable not found. Please set the PROJ_DIR variable. For more information see: https://pyproj4.github.io/pyproj/stable/installation.html\n",
      "  \u001b[31m   \u001b[0m \u001b[31m[end of output]\u001b[0m\n",
      "  \n",
      "  \u001b[1;35mnote\u001b[0m: This error originates from a subprocess, and is likely not a problem with pip.\n",
      "\u001b[1;31merror\u001b[0m: \u001b[1msubprocess-exited-with-error\u001b[0m\n",
      "\n",
      "\u001b[31m×\u001b[0m \u001b[32mGetting requirements to build wheel\u001b[0m did not run successfully.\n",
      "\u001b[31m│\u001b[0m exit code: \u001b[1;36m1\u001b[0m\n",
      "\u001b[31m╰─>\u001b[0m See above for output.\n",
      "\n",
      "\u001b[1;35mnote\u001b[0m: This error originates from a subprocess, and is likely not a problem with pip.\n",
      "\u001b[?25h"
     ]
    }
   ],
   "source": [
    "!pip install folium geopandas"
   ]
  },
  {
   "cell_type": "code",
   "execution_count": 3,
   "metadata": {},
   "outputs": [
    {
     "ename": "ModuleNotFoundError",
     "evalue": "No module named 'folium'",
     "output_type": "error",
     "traceback": [
      "\u001b[0;31m---------------------------------------------------------------------------\u001b[0m",
      "\u001b[0;31mModuleNotFoundError\u001b[0m                       Traceback (most recent call last)",
      "Cell \u001b[0;32mIn[3], line 6\u001b[0m\n\u001b[1;32m      4\u001b[0m \u001b[38;5;28;01mimport\u001b[39;00m \u001b[38;5;21;01mos\u001b[39;00m\n\u001b[1;32m      5\u001b[0m \u001b[38;5;28;01mimport\u001b[39;00m \u001b[38;5;21;01mmatplotlib\u001b[39;00m\u001b[38;5;21;01m.\u001b[39;00m\u001b[38;5;21;01mpyplot\u001b[39;00m \u001b[38;5;28;01mas\u001b[39;00m \u001b[38;5;21;01mplt\u001b[39;00m\n\u001b[0;32m----> 6\u001b[0m \u001b[38;5;28;01mimport\u001b[39;00m \u001b[38;5;21;01mfolium\u001b[39;00m\n\u001b[1;32m      7\u001b[0m \u001b[38;5;28;01mfrom\u001b[39;00m \u001b[38;5;21;01mdotenv\u001b[39;00m \u001b[38;5;28;01mimport\u001b[39;00m load_dotenv\n\u001b[1;32m      8\u001b[0m \u001b[38;5;28;01mfrom\u001b[39;00m \u001b[38;5;21;01mfolium\u001b[39;00m\u001b[38;5;21;01m.\u001b[39;00m\u001b[38;5;21;01mplugins\u001b[39;00m \u001b[38;5;28;01mimport\u001b[39;00m HeatMap\n",
      "\u001b[0;31mModuleNotFoundError\u001b[0m: No module named 'folium'"
     ]
    }
   ],
   "source": [
    "import requests\n",
    "import pandas as pd\n",
    "import time\n",
    "import os\n",
    "import matplotlib.pyplot as plt\n",
    "import folium\n",
    "from dotenv import load_dotenv\n",
    "from folium.plugins import HeatMap\n",
    "\n",
    "load_dotenv()\n",
    "\n",
    "# API Key\n",
    "API_KEY = os.environ.get('GOOGLE_PLACES_API_KEY')"
   ]
  },
  {
   "cell_type": "markdown",
   "metadata": {},
   "source": [
    "## Collect Data"
   ]
  },
  {
   "cell_type": "code",
   "execution_count": null,
   "metadata": {},
   "outputs": [],
   "source": [
    "def get_places_data(location, radius, place_type, api_key, max_results=20):\n",
    "    \"\"\"\n",
    "    Fetches places data using the Google Places API.\n",
    "    \n",
    "    Args:\n",
    "    - location (str): Latitude and Longitude (e.g., \"37.7749,-122.4194\")\n",
    "    - radius (int): Search radius in meters\n",
    "    - place_type (str): Type of place to search (e.g., 'restaurant', 'tourist_attraction')\n",
    "    - api_key (str): Your Google Places API key\n",
    "    - max_results (int): Maximum number of results to return (API returns 20 per request)\n",
    "    \n",
    "    Returns:\n",
    "    - pd.DataFrame: DataFrame containing the places data\n",
    "    \"\"\"\n",
    "    endpoint_url = \"https://maps.googleapis.com/maps/api/place/nearbysearch/json\"\n",
    "    places = []\n",
    "    next_page_token = None\n",
    "    \n",
    "    while len(places) < max_results:\n",
    "        # Construct the API request\n",
    "        params = {\n",
    "            'location': location,\n",
    "            'radius': radius,\n",
    "            'type': place_type,\n",
    "            'key': api_key\n",
    "        }\n",
    "\n",
    "        if next_page_token:\n",
    "            params['pagetoken'] = next_page_token\n",
    "        \n",
    "        # Make the API request\n",
    "        res = requests.get(endpoint_url, params=params)\n",
    "        results = res.json()\n",
    "        \n",
    "        # Add the results to the list\n",
    "        places.extend(results['results'])\n",
    "        \n",
    "        # Check if there's a next page\n",
    "        next_page_token = results.get('next_page_token', None)\n",
    "\n",
    "        # If there is no next page or we've reached the max results, break\n",
    "        if not next_page_token or len(places) >= max_results:\n",
    "            break\n",
    "        \n",
    "        # Pause to avoid hitting the API rate limit\n",
    "        time.sleep(2)\n",
    "\n",
    "    # Create a DataFrame from the results\n",
    "    data = []\n",
    "    for place in places:\n",
    "        place_info = {\n",
    "            'place_id': place.get('place_id'),\n",
    "            'name': place.get('name'),\n",
    "            'address': place.get('vicinity'),\n",
    "            'rating': place.get('rating'),\n",
    "            'user_ratings_total': place.get('user_ratings_total'),\n",
    "            'latitude': place['geometry']['location']['lat'],\n",
    "            'longitude': place['geometry']['location']['lng'],\n",
    "            'place_type': place_type\n",
    "        }\n",
    "        data.append(place_info)\n",
    "\n",
    "    return pd.DataFrame(data)"
   ]
  },
  {
   "cell_type": "code",
   "execution_count": null,
   "metadata": {},
   "outputs": [],
   "source": [
    "def get_place_details(place_id, api_key):\n",
    "    \"\"\"\n",
    "    Fetch detailed information about a place using the Google Places API.\n",
    "    \n",
    "    Args:\n",
    "    - place_id (str): The unique ID of the place.\n",
    "    - api_key (str): Your Google Places API key.\n",
    "    \n",
    "    Returns:\n",
    "    - dict: Dictionary containing place details such as reviews and photos.\n",
    "    \"\"\"\n",
    "    endpoint_url = \"https://maps.googleapis.com/maps/api/place/details/json\"\n",
    "    params = {\n",
    "        'place_id': place_id,\n",
    "        'fields': 'name,rating,reviews,photos',\n",
    "        'key': api_key\n",
    "    }\n",
    "    \n",
    "    # Make the API request\n",
    "    response = requests.get(endpoint_url, params=params)\n",
    "    place_details = response.json().get('result', {})\n",
    "    \n",
    "    return place_details"
   ]
  },
  {
   "cell_type": "code",
   "execution_count": null,
   "metadata": {},
   "outputs": [],
   "source": [
    "def extract_reviews(place_details):\n",
    "    \"\"\"\n",
    "    Extract reviews from place details.\n",
    "\n",
    "    Args:\n",
    "    - place_details (dict): Dictionary containing place details including reviews.\n",
    "    \n",
    "    Returns:\n",
    "    - list: List of reviews for the place.\n",
    "    \"\"\"\n",
    "    reviews = []\n",
    "    if 'reviews' in place_details:\n",
    "        for review in place_details['reviews']:\n",
    "            review_data = {\n",
    "                'author_name': review['author_name'],\n",
    "                'rating': review['rating'],\n",
    "                'text': review['text'],\n",
    "                'relative_time_description': review['relative_time_description']\n",
    "            }\n",
    "            reviews.append(review_data)\n",
    "    return reviews"
   ]
  },
  {
   "cell_type": "code",
   "execution_count": null,
   "metadata": {},
   "outputs": [],
   "source": [
    "def get_photo_urls(place_details, api_key, max_photos=5):\n",
    "    \"\"\"\n",
    "    Fetch photo URLs for a place.\n",
    "    \n",
    "    Args:\n",
    "    - place_details (dict): Dictionary containing place details including photos.\n",
    "    - api_key (str): Your Google Places API key.\n",
    "    - max_photos (int): Maximum number of photos to retrieve.\n",
    "    \n",
    "    Returns:\n",
    "    - list: List of photo URLs.\n",
    "    \"\"\"\n",
    "    photo_urls = []\n",
    "    if 'photos' in place_details:\n",
    "        for photo in place_details['photos'][:max_photos]:\n",
    "            # Use the photo reference to construct the photo URL\n",
    "            photo_reference = photo['photo_reference']\n",
    "            photo_url = f\"https://maps.googleapis.com/maps/api/place/photo?maxwidth=400&photoreference={photo_reference}&key={api_key}\"\n",
    "            photo_urls.append(photo_url)\n",
    "    return photo_urls"
   ]
  },
  {
   "cell_type": "code",
   "execution_count": null,
   "metadata": {},
   "outputs": [],
   "source": [
    "# Run this block sparingly\n",
    "\n",
    "# Define the location and radius\n",
    "location = \"37.7749,-122.4194\"  # San Francisco, CA\n",
    "radius = 5000  # 5 km radius\n",
    "\n",
    "# Collect data for different types of places\n",
    "restaurants_data = get_places_data(location, radius, 'restaurant', API_KEY)\n",
    "tourist_attractions_data = get_places_data(location, radius, 'tourist_attraction', API_KEY)"
   ]
  },
  {
   "cell_type": "code",
   "execution_count": null,
   "metadata": {},
   "outputs": [],
   "source": [
    "# Combine the data\n",
    "all_places_data = pd.concat([restaurants_data, tourist_attractions_data], ignore_index=True)"
   ]
  },
  {
   "cell_type": "code",
   "execution_count": null,
   "metadata": {},
   "outputs": [],
   "source": [
    "# Run this block sparingly\n",
    "\n",
    "# place_id from a previous search\n",
    "place_id = 'ChIJN1t_tDeuEmsRUsoyG83frY4' # TODO: will be changed\n",
    "\n",
    "# Get place details using the place_id\n",
    "place_details = get_place_details(place_id, API_KEY)"
   ]
  },
  {
   "cell_type": "code",
   "execution_count": null,
   "metadata": {},
   "outputs": [],
   "source": [
    "# Extract reviews\n",
    "reviews = extract_reviews(place_details)\n",
    "print(\"Reviews:\")\n",
    "for review in reviews:\n",
    "    print(f\"Author: {review['author_name']}, Rating: {review['rating']}, Review: {review['text']}\")"
   ]
  },
  {
   "cell_type": "code",
   "execution_count": null,
   "metadata": {},
   "outputs": [],
   "source": [
    "# Convert reviews to a DataFrame\n",
    "reviews_df = pd.DataFrame(all_reviews)"
   ]
  },
  {
   "cell_type": "code",
   "execution_count": null,
   "metadata": {},
   "outputs": [],
   "source": [
    "# Run this block sparingly\n",
    "\n",
    "# Extract photo URLs\n",
    "photo_urls = get_photo_urls(place_details, API_KEY)\n",
    "print(\"\\nPhoto URLs:\")\n",
    "for url in photo_urls:\n",
    "    print(url)"
   ]
  },
  {
   "cell_type": "code",
   "execution_count": null,
   "metadata": {},
   "outputs": [],
   "source": [
    "# Convert photo URLs to a DataFrame\n",
    "photo_urls_df = pd.DataFrame({'photo_url': all_photo_urls})"
   ]
  },
  {
   "cell_type": "markdown",
   "metadata": {},
   "source": [
    "## Save Data to CSV"
   ]
  },
  {
   "cell_type": "code",
   "execution_count": null,
   "metadata": {},
   "outputs": [],
   "source": [
    "all_places_data.to_csv('travel_places_data.csv', index=False)\n",
    "reviews_df.to_csv('place_reviews.csv', index=False)\n",
    "photo_urls_df.to_csv('place_photos.csv', index=False)"
   ]
  },
  {
   "cell_type": "markdown",
   "metadata": {},
   "source": [
    "## Data Exploration & Preparation"
   ]
  },
  {
   "cell_type": "code",
   "execution_count": null,
   "metadata": {},
   "outputs": [],
   "source": [
    "all_places_data.head()"
   ]
  },
  {
   "cell_type": "code",
   "execution_count": null,
   "metadata": {},
   "outputs": [],
   "source": [
    "all_places_data.describe()"
   ]
  },
  {
   "cell_type": "code",
   "execution_count": null,
   "metadata": {},
   "outputs": [],
   "source": [
    "# Plot distribution of ratings\n",
    "plt.figure(figsize=(8, 6))\n",
    "all_places_data['rating'].dropna().hist(bins=20, color='skyblue')\n",
    "plt.title('Distribution of Ratings')\n",
    "plt.xlabel('Rating')\n",
    "plt.ylabel('Frequency')\n",
    "plt.show()"
   ]
  },
  {
   "cell_type": "code",
   "execution_count": null,
   "metadata": {},
   "outputs": [],
   "source": [
    "# Location heatmap to show the density of places\n",
    "\n",
    "# Filter the data to get the locations (latitude and longitude)\n",
    "location_data = all_places_data[['latitude', 'longitude']].dropna()\n",
    "\n",
    "# Get the center of the map (average latitude and longitude)\n",
    "center_lat = location_data['latitude'].mean()\n",
    "center_lng = location_data['longitude'].mean()\n",
    "\n",
    "# Create a Folium map centered on the average coordinates\n",
    "mymap = folium.Map(location=[center_lat, center_lng], zoom_start=12)\n",
    "\n",
    "# Create a list of [latitude, longitude] pairs for the heatmap\n",
    "heatmap_data = [[row['latitude'], row['longitude']] for index, row in location_data.iterrows()]\n",
    "\n",
    "# Add the HeatMap layer to the map\n",
    "HeatMap(heatmap_data).add_to(mymap)\n",
    "\n",
    "# Show the map in the notebook\n",
    "mymap"
   ]
  },
  {
   "cell_type": "code",
   "execution_count": null,
   "metadata": {},
   "outputs": [],
   "source": [
    "# Save the map as an HTML file\n",
    "mymap.save('places_heatmap.html')"
   ]
  }
 ],
 "metadata": {
  "kernelspec": {
   "display_name": "Python 3 (ipykernel)",
   "language": "python",
   "name": "python3"
  },
  "language_info": {
   "codemirror_mode": {
    "name": "ipython",
    "version": 3
   },
   "file_extension": ".py",
   "mimetype": "text/x-python",
   "name": "python",
   "nbconvert_exporter": "python",
   "pygments_lexer": "ipython3",
   "version": "3.11.5"
  }
 },
 "nbformat": 4,
 "nbformat_minor": 2
}
