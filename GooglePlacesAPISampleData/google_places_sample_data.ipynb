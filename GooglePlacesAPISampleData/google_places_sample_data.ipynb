{
 "cells": [
  {
   "cell_type": "markdown",
   "metadata": {},
   "source": [
    "# Google Places Sample Data"
   ]
  },
  {
   "cell_type": "markdown",
   "metadata": {},
   "source": [
    "## Import Packages"
   ]
  },
  {
   "cell_type": "code",
   "execution_count": 1,
   "metadata": {
    "vscode": {
     "languageId": "powershell"
    }
   },
   "outputs": [
    {
     "name": "stdout",
     "output_type": "stream",
     "text": [
      "Requirement already satisfied: python-dotenv in /Users/pearlynn/anaconda3/lib/python3.11/site-packages (0.21.0)\r\n"
     ]
    }
   ],
   "source": [
    "!pip install python-dotenv"
   ]
  },
  {
   "cell_type": "code",
   "execution_count": 4,
   "metadata": {
    "vscode": {
     "languageId": "powershell"
    }
   },
   "outputs": [
    {
     "name": "stdout",
     "output_type": "stream",
     "text": [
      "Collecting folium\n",
      "  Obtaining dependency information for folium from https://files.pythonhosted.org/packages/ae/6d/18a7546e1748ecdd6ed7cd00d3f183faf1df08bd4f5e5e0eb3e72458b862/folium-0.17.0-py2.py3-none-any.whl.metadata\n",
      "  Using cached folium-0.17.0-py2.py3-none-any.whl.metadata (3.8 kB)\n",
      "Collecting branca>=0.6.0 (from folium)\n",
      "  Obtaining dependency information for branca>=0.6.0 from https://files.pythonhosted.org/packages/fc/be/720f85abacd654ec86f1431bc7c004eae74417bd9d0e7a2bc43601062627/branca-0.8.0-py3-none-any.whl.metadata\n",
      "  Using cached branca-0.8.0-py3-none-any.whl.metadata (1.5 kB)\n",
      "Requirement already satisfied: jinja2>=2.9 in /Users/pearlynn/anaconda3/lib/python3.11/site-packages (from folium) (3.1.2)\n",
      "Requirement already satisfied: numpy in /Users/pearlynn/anaconda3/lib/python3.11/site-packages (from folium) (1.24.3)\n",
      "Requirement already satisfied: requests in /Users/pearlynn/anaconda3/lib/python3.11/site-packages (from folium) (2.31.0)\n",
      "Requirement already satisfied: xyzservices in /Users/pearlynn/anaconda3/lib/python3.11/site-packages (from folium) (2022.9.0)\n",
      "Requirement already satisfied: MarkupSafe>=2.0 in /Users/pearlynn/anaconda3/lib/python3.11/site-packages (from jinja2>=2.9->folium) (2.1.1)\n",
      "Requirement already satisfied: charset-normalizer<4,>=2 in /Users/pearlynn/anaconda3/lib/python3.11/site-packages (from requests->folium) (2.0.4)\n",
      "Requirement already satisfied: idna<4,>=2.5 in /Users/pearlynn/anaconda3/lib/python3.11/site-packages (from requests->folium) (3.4)\n",
      "Requirement already satisfied: urllib3<3,>=1.21.1 in /Users/pearlynn/anaconda3/lib/python3.11/site-packages (from requests->folium) (1.26.16)\n",
      "Requirement already satisfied: certifi>=2017.4.17 in /Users/pearlynn/anaconda3/lib/python3.11/site-packages (from requests->folium) (2023.7.22)\n",
      "Downloading folium-0.17.0-py2.py3-none-any.whl (108 kB)\n",
      "\u001b[2K   \u001b[90m━━━━━━━━━━━━━━━━━━━━━━━━━━━━━━━━━━━━━━━━\u001b[0m \u001b[32m108.4/108.4 kB\u001b[0m \u001b[31m4.5 MB/s\u001b[0m eta \u001b[36m0:00:00\u001b[0m\n",
      "\u001b[?25hDownloading branca-0.8.0-py3-none-any.whl (25 kB)\n",
      "Installing collected packages: branca, folium\n",
      "Successfully installed branca-0.8.0 folium-0.17.0\n"
     ]
    }
   ],
   "source": [
    "!pip install folium"
   ]
  },
  {
   "cell_type": "code",
   "execution_count": 5,
   "metadata": {},
   "outputs": [
    {
     "name": "stdout",
     "output_type": "stream",
     "text": [
      "Collecting geopandas\n",
      "  Obtaining dependency information for geopandas from https://files.pythonhosted.org/packages/c4/64/7d344cfcef5efddf9cf32f59af7f855828e9d74b5f862eddf5bfd9f25323/geopandas-1.0.1-py3-none-any.whl.metadata\n",
      "  Using cached geopandas-1.0.1-py3-none-any.whl.metadata (2.2 kB)\n",
      "Requirement already satisfied: numpy>=1.22 in /Users/pearlynn/anaconda3/lib/python3.11/site-packages (from geopandas) (1.24.3)\n",
      "Collecting pyogrio>=0.7.2 (from geopandas)\n",
      "  Obtaining dependency information for pyogrio>=0.7.2 from https://files.pythonhosted.org/packages/8d/2c/c761e6adeb81bd4029a137b3240e7214a8c9aaf225883356196afd6ef9d8/pyogrio-0.10.0-cp311-cp311-macosx_12_0_arm64.whl.metadata\n",
      "  Using cached pyogrio-0.10.0-cp311-cp311-macosx_12_0_arm64.whl.metadata (5.5 kB)\n",
      "Requirement already satisfied: packaging in /Users/pearlynn/anaconda3/lib/python3.11/site-packages (from geopandas) (23.1)\n",
      "Requirement already satisfied: pandas>=1.4.0 in /Users/pearlynn/anaconda3/lib/python3.11/site-packages (from geopandas) (2.0.3)\n",
      "Collecting pyproj>=3.3.0 (from geopandas)\n",
      "  Using cached pyproj-3.7.0.tar.gz (225 kB)\n",
      "  Installing build dependencies ... \u001b[?25ldone\n",
      "\u001b[?25h  Getting requirements to build wheel ... \u001b[?25lerror\n",
      "  \u001b[1;31merror\u001b[0m: \u001b[1msubprocess-exited-with-error\u001b[0m\n",
      "  \n",
      "  \u001b[31m×\u001b[0m \u001b[32mGetting requirements to build wheel\u001b[0m did not run successfully.\n",
      "  \u001b[31m│\u001b[0m exit code: \u001b[1;36m1\u001b[0m\n",
      "  \u001b[31m╰─>\u001b[0m \u001b[31m[1 lines of output]\u001b[0m\n",
      "  \u001b[31m   \u001b[0m proj executable not found. Please set the PROJ_DIR variable. For more information see: https://pyproj4.github.io/pyproj/stable/installation.html\n",
      "  \u001b[31m   \u001b[0m \u001b[31m[end of output]\u001b[0m\n",
      "  \n",
      "  \u001b[1;35mnote\u001b[0m: This error originates from a subprocess, and is likely not a problem with pip.\n",
      "\u001b[1;31merror\u001b[0m: \u001b[1msubprocess-exited-with-error\u001b[0m\n",
      "\n",
      "\u001b[31m×\u001b[0m \u001b[32mGetting requirements to build wheel\u001b[0m did not run successfully.\n",
      "\u001b[31m│\u001b[0m exit code: \u001b[1;36m1\u001b[0m\n",
      "\u001b[31m╰─>\u001b[0m See above for output.\n",
      "\n",
      "\u001b[1;35mnote\u001b[0m: This error originates from a subprocess, and is likely not a problem with pip.\n",
      "\u001b[?25h"
     ]
    }
   ],
   "source": [
    "!pip install geopandas"
   ]
  },
  {
   "cell_type": "code",
   "execution_count": 6,
   "metadata": {},
   "outputs": [],
   "source": [
    "import requests\n",
    "import pandas as pd\n",
    "import time\n",
    "import os\n",
    "import matplotlib.pyplot as plt\n",
    "import folium\n",
    "from dotenv import load_dotenv\n",
    "from folium.plugins import HeatMap\n",
    "\n",
    "load_dotenv()\n",
    "\n",
    "# API Key\n",
    "API_KEY = os.environ.get('GOOGLE_PLACES_API_KEY')"
   ]
  },
  {
   "cell_type": "markdown",
   "metadata": {},
   "source": [
    "## Collect Data"
   ]
  },
  {
   "cell_type": "code",
   "execution_count": 7,
   "metadata": {},
   "outputs": [],
   "source": [
    "def get_places_data(location, radius, place_type, api_key, max_results=20):\n",
    "    \"\"\"\n",
    "    Fetches places data using the Google Places API.\n",
    "    \n",
    "    Args:\n",
    "    - location (str): Latitude and Longitude (e.g., \"37.7749,-122.4194\")\n",
    "    - radius (int): Search radius in meters\n",
    "    - place_type (str): Type of place to search (e.g., 'restaurant', 'tourist_attraction')\n",
    "    - api_key (str): Your Google Places API key\n",
    "    - max_results (int): Maximum number of results to return (API returns 20 per request)\n",
    "    \n",
    "    Returns:\n",
    "    - pd.DataFrame: DataFrame containing the places data\n",
    "    \"\"\"\n",
    "    endpoint_url = \"https://maps.googleapis.com/maps/api/place/nearbysearch/json\"\n",
    "    places = []\n",
    "    next_page_token = None\n",
    "    \n",
    "    while len(places) < max_results:\n",
    "        # Construct the API request\n",
    "        params = {\n",
    "            'location': location,\n",
    "            'radius': radius,\n",
    "            'type': place_type,\n",
    "            'key': api_key\n",
    "        }\n",
    "\n",
    "        if next_page_token:\n",
    "            params['pagetoken'] = next_page_token\n",
    "        \n",
    "        # Make the API request\n",
    "        res = requests.get(endpoint_url, params=params)\n",
    "        results = res.json()\n",
    "        \n",
    "        # Add the results to the list\n",
    "        places.extend(results['results'])\n",
    "        \n",
    "        # Check if there's a next page\n",
    "        next_page_token = results.get('next_page_token', None)\n",
    "\n",
    "        # If there is no next page or we've reached the max results, break\n",
    "        if not next_page_token or len(places) >= max_results:\n",
    "            break\n",
    "        \n",
    "        # Pause to avoid hitting the API rate limit\n",
    "        time.sleep(2)\n",
    "\n",
    "    # Create a DataFrame from the results\n",
    "    data = []\n",
    "    for place in places:\n",
    "        place_info = {\n",
    "            'place_id': place.get('place_id'),\n",
    "            'name': place.get('name'),\n",
    "            'address': place.get('vicinity'),\n",
    "            'rating': place.get('rating'),\n",
    "            'user_ratings_total': place.get('user_ratings_total'),\n",
    "            'latitude': place['geometry']['location']['lat'],\n",
    "            'longitude': place['geometry']['location']['lng'],\n",
    "            'place_type': place_type\n",
    "        }\n",
    "        data.append(place_info)\n",
    "\n",
    "    return pd.DataFrame(data)"
   ]
  },
  {
   "cell_type": "code",
   "execution_count": 8,
   "metadata": {},
   "outputs": [],
   "source": [
    "def get_place_details(place_id, api_key):\n",
    "    \"\"\"\n",
    "    Fetch detailed information about a place using the Google Places API.\n",
    "    \n",
    "    Args:\n",
    "    - place_id (str): The unique ID of the place.\n",
    "    - api_key (str): Your Google Places API key.\n",
    "    \n",
    "    Returns:\n",
    "    - dict: Dictionary containing place details such as reviews and photos.\n",
    "    \"\"\"\n",
    "    endpoint_url = \"https://maps.googleapis.com/maps/api/place/details/json\"\n",
    "    params = {\n",
    "        'place_id': place_id,\n",
    "        'fields': 'name,rating,reviews,photos',\n",
    "        'key': api_key\n",
    "    }\n",
    "    \n",
    "    # Make the API request\n",
    "    response = requests.get(endpoint_url, params=params)\n",
    "    place_details = response.json().get('result', {})\n",
    "    \n",
    "    return place_details"
   ]
  },
  {
   "cell_type": "code",
   "execution_count": 9,
   "metadata": {},
   "outputs": [],
   "source": [
    "def extract_reviews(place_details):\n",
    "    \"\"\"\n",
    "    Extract reviews from place details.\n",
    "\n",
    "    Args:\n",
    "    - place_details (dict): Dictionary containing place details including reviews.\n",
    "    \n",
    "    Returns:\n",
    "    - list: List of reviews for the place.\n",
    "    \"\"\"\n",
    "    reviews = []\n",
    "    if 'reviews' in place_details:\n",
    "        for review in place_details['reviews']:\n",
    "            review_data = {\n",
    "                'author_name': review['author_name'],\n",
    "                'rating': review['rating'],\n",
    "                'text': review['text'],\n",
    "                'relative_time_description': review['relative_time_description']\n",
    "            }\n",
    "            reviews.append(review_data)\n",
    "    return reviews"
   ]
  },
  {
   "cell_type": "code",
   "execution_count": 10,
   "metadata": {},
   "outputs": [],
   "source": [
    "def get_photo_urls(place_details, api_key, max_photos=5):\n",
    "    \"\"\"\n",
    "    Fetch photo URLs for a place.\n",
    "    \n",
    "    Args:\n",
    "    - place_details (dict): Dictionary containing place details including photos.\n",
    "    - api_key (str): Your Google Places API key.\n",
    "    - max_photos (int): Maximum number of photos to retrieve.\n",
    "    \n",
    "    Returns:\n",
    "    - list: List of photo URLs.\n",
    "    \"\"\"\n",
    "    photo_urls = []\n",
    "    if 'photos' in place_details:\n",
    "        for photo in place_details['photos'][:max_photos]:\n",
    "            # Use the photo reference to construct the photo URL\n",
    "            photo_reference = photo['photo_reference']\n",
    "            photo_url = f\"https://maps.googleapis.com/maps/api/place/photo?maxwidth=400&photoreference={photo_reference}&key={api_key}\"\n",
    "            photo_urls.append(photo_url)\n",
    "    return photo_urls"
   ]
  },
  {
   "cell_type": "code",
   "execution_count": 11,
   "metadata": {},
   "outputs": [],
   "source": [
    "# Run this block sparingly\n",
    "\n",
    "# Define the location and radius\n",
    "location = \"37.7749,-122.4194\"  # San Francisco, CA\n",
    "radius = 5000  # 5 km radius\n",
    "\n",
    "# Collect data for different types of places\n",
    "restaurants_data = get_places_data(location, radius, 'restaurant', API_KEY)\n",
    "tourist_attractions_data = get_places_data(location, radius, 'tourist_attraction', API_KEY)"
   ]
  },
  {
   "cell_type": "code",
   "execution_count": 12,
   "metadata": {},
   "outputs": [
    {
     "data": {
      "text/html": [
       "<div>\n",
       "<style scoped>\n",
       "    .dataframe tbody tr th:only-of-type {\n",
       "        vertical-align: middle;\n",
       "    }\n",
       "\n",
       "    .dataframe tbody tr th {\n",
       "        vertical-align: top;\n",
       "    }\n",
       "\n",
       "    .dataframe thead th {\n",
       "        text-align: right;\n",
       "    }\n",
       "</style>\n",
       "<table border=\"1\" class=\"dataframe\">\n",
       "  <thead>\n",
       "    <tr style=\"text-align: right;\">\n",
       "      <th></th>\n",
       "      <th>place_id</th>\n",
       "      <th>name</th>\n",
       "      <th>address</th>\n",
       "      <th>rating</th>\n",
       "      <th>user_ratings_total</th>\n",
       "      <th>latitude</th>\n",
       "      <th>longitude</th>\n",
       "      <th>place_type</th>\n",
       "    </tr>\n",
       "  </thead>\n",
       "  <tbody>\n",
       "    <tr>\n",
       "      <th>0</th>\n",
       "      <td>ChIJN2S4EI2AhYAR9J4Qeh1U8Aw</td>\n",
       "      <td>Fairmont San Francisco</td>\n",
       "      <td>950 Mason Street, San Francisco</td>\n",
       "      <td>4.5</td>\n",
       "      <td>6555</td>\n",
       "      <td>37.792390</td>\n",
       "      <td>-122.410444</td>\n",
       "      <td>restaurant</td>\n",
       "    </tr>\n",
       "    <tr>\n",
       "      <th>1</th>\n",
       "      <td>ChIJW52Si_OAhYAR-jAC1-iQh_c</td>\n",
       "      <td>The Stinking Rose</td>\n",
       "      <td>430 Columbus Avenue, San Francisco</td>\n",
       "      <td>4.2</td>\n",
       "      <td>4149</td>\n",
       "      <td>37.799102</td>\n",
       "      <td>-122.408168</td>\n",
       "      <td>restaurant</td>\n",
       "    </tr>\n",
       "    <tr>\n",
       "      <th>2</th>\n",
       "      <td>ChIJF-zbSmSAhYARvOafjdCRszQ</td>\n",
       "      <td>Boulevard</td>\n",
       "      <td>1 Mission Street, San Francisco</td>\n",
       "      <td>4.6</td>\n",
       "      <td>1547</td>\n",
       "      <td>37.793270</td>\n",
       "      <td>-122.392868</td>\n",
       "      <td>restaurant</td>\n",
       "    </tr>\n",
       "    <tr>\n",
       "      <th>3</th>\n",
       "      <td>ChIJNy8VmmGAhYARQF84_9twEc4</td>\n",
       "      <td>Perbacco</td>\n",
       "      <td>230 California Street, San Francisco</td>\n",
       "      <td>4.4</td>\n",
       "      <td>929</td>\n",
       "      <td>37.793433</td>\n",
       "      <td>-122.399314</td>\n",
       "      <td>restaurant</td>\n",
       "    </tr>\n",
       "    <tr>\n",
       "      <th>4</th>\n",
       "      <td>ChIJDVK5qGaAhYAR_goq49KaaEc</td>\n",
       "      <td>One Market Restaurant/Mark 'n Mike's NY Style ...</td>\n",
       "      <td>1 Market Street, San Francisco</td>\n",
       "      <td>4.3</td>\n",
       "      <td>899</td>\n",
       "      <td>37.794207</td>\n",
       "      <td>-122.394785</td>\n",
       "      <td>restaurant</td>\n",
       "    </tr>\n",
       "  </tbody>\n",
       "</table>\n",
       "</div>"
      ],
      "text/plain": [
       "                      place_id  \\\n",
       "0  ChIJN2S4EI2AhYAR9J4Qeh1U8Aw   \n",
       "1  ChIJW52Si_OAhYAR-jAC1-iQh_c   \n",
       "2  ChIJF-zbSmSAhYARvOafjdCRszQ   \n",
       "3  ChIJNy8VmmGAhYARQF84_9twEc4   \n",
       "4  ChIJDVK5qGaAhYAR_goq49KaaEc   \n",
       "\n",
       "                                                name  \\\n",
       "0                             Fairmont San Francisco   \n",
       "1                                  The Stinking Rose   \n",
       "2                                          Boulevard   \n",
       "3                                           Perbacco   \n",
       "4  One Market Restaurant/Mark 'n Mike's NY Style ...   \n",
       "\n",
       "                                address  rating  user_ratings_total  \\\n",
       "0       950 Mason Street, San Francisco     4.5                6555   \n",
       "1    430 Columbus Avenue, San Francisco     4.2                4149   \n",
       "2       1 Mission Street, San Francisco     4.6                1547   \n",
       "3  230 California Street, San Francisco     4.4                 929   \n",
       "4        1 Market Street, San Francisco     4.3                 899   \n",
       "\n",
       "    latitude   longitude  place_type  \n",
       "0  37.792390 -122.410444  restaurant  \n",
       "1  37.799102 -122.408168  restaurant  \n",
       "2  37.793270 -122.392868  restaurant  \n",
       "3  37.793433 -122.399314  restaurant  \n",
       "4  37.794207 -122.394785  restaurant  "
      ]
     },
     "execution_count": 12,
     "metadata": {},
     "output_type": "execute_result"
    }
   ],
   "source": [
    "# Combine the data\n",
    "all_places_data = pd.concat([restaurants_data, tourist_attractions_data], ignore_index=True)\n",
    "all_places_data.head()"
   ]
  },
  {
   "cell_type": "code",
   "execution_count": 13,
   "metadata": {},
   "outputs": [],
   "source": [
    "# Run this block sparingly\n",
    "\n",
    "# place_id from a previous search\n",
    "place_id = 'ChIJNy8VmmGAhYARQF84_9twEc4' # TODO: will be changed\n",
    "\n",
    "# Get place details using the place_id\n",
    "place_details = get_place_details(place_id, API_KEY)"
   ]
  },
  {
   "cell_type": "code",
   "execution_count": 14,
   "metadata": {},
   "outputs": [
    {
     "name": "stdout",
     "output_type": "stream",
     "text": [
      "Reviews:\n",
      "Author: Laura Peters, Rating: 5, Review: Friends took me to Perbacco for lunch recently. Every dish was impeccable, but I was particularly impressed by the Triangoli ravioli one of my table mates ordered. The flavors were so complex and appealing. The Baba Al Rum dessert was as scrumptious as it looks!\n",
      "Author: Yu Qin, Rating: 2, Review: Bread came after starters, overcooked octopus, undercooked duck breast, and Americanized pasta. From a person not very picky about what they are eating, I am so disappointed with the quality of foods here and still did not figure out why so many locals recommend me this Italian restaurant.\n",
      "I love Italian food and go to Italy once a year. These foods are hard to swallow. Sorry, this is just my personal opinion.\n",
      "Author: Cel B, Rating: 5, Review: Such a great experience! Food was phenomenal and the service was equally as phenomenal. Logan our waiter did a fantastic job serving us. It was my friends birthday and he made sure she had a great experience with great service and a free dessert. Definitely coming back when I visit Durango in the future!\n",
      "Author: LoMo Phillips, Rating: 5, Review: Perbacco is an old school Italian spot disguised in modern digs. This is our go-to special night spot for many reasons. It's one of the few places in SF where the service is impeccable - instantly greeted at the door, guided to white-tableclothed spot (with plenty of spacing between you and other guests), and checked on just enough times throughout your meal.\n",
      "Apart from elegant dining room, the food is second to none. The pastas are exactly like what'd you'd find in northern Italy - I could have the Tajarin every day, for breakfast, lunch, or dinner. They also have my favorite Piedmontese appetizer Vitello Tonnato - just try it if you’re on the fence, and I guarantee you’ll be pleasantly surprised.\n",
      "I wish more restaurants did it like Perbacco!\n",
      "Author: Patty Kong, Rating: 5, Review: I've been to Perbacco several times and have enjoyed each meal there.  The pastas are delicious and well done.  Service is good.  Wine list is extensive.  I haven't had a hard time getting a reservation here, unlike some other places.  We had the pear salad and the tortellini soup.  For pastas, I highly recommend the TAJARIN\n",
      "handcut thin tagliatelle - 5 hour pork and porcini mushroom sugo and the short ribs in a packet.  Can't remember what is was called, but I've had it twice and it is very good.  For desserts, we've had the Gelato, which has been rich but not over the top.  All in all, I think it is a good value for what you get.  Enjoyed our meals here.\n"
     ]
    }
   ],
   "source": [
    "# Extract reviews\n",
    "reviews = extract_reviews(place_details)\n",
    "print(\"Reviews:\")\n",
    "for review in reviews:\n",
    "    print(f\"Author: {review['author_name']}, Rating: {review['rating']}, Review: {review['text']}\")"
   ]
  },
  {
   "cell_type": "code",
   "execution_count": 17,
   "metadata": {},
   "outputs": [
    {
     "data": {
      "text/html": [
       "<div>\n",
       "<style scoped>\n",
       "    .dataframe tbody tr th:only-of-type {\n",
       "        vertical-align: middle;\n",
       "    }\n",
       "\n",
       "    .dataframe tbody tr th {\n",
       "        vertical-align: top;\n",
       "    }\n",
       "\n",
       "    .dataframe thead th {\n",
       "        text-align: right;\n",
       "    }\n",
       "</style>\n",
       "<table border=\"1\" class=\"dataframe\">\n",
       "  <thead>\n",
       "    <tr style=\"text-align: right;\">\n",
       "      <th></th>\n",
       "      <th>author_name</th>\n",
       "      <th>rating</th>\n",
       "      <th>text</th>\n",
       "      <th>relative_time_description</th>\n",
       "    </tr>\n",
       "  </thead>\n",
       "  <tbody>\n",
       "    <tr>\n",
       "      <th>0</th>\n",
       "      <td>Laura Peters</td>\n",
       "      <td>5</td>\n",
       "      <td>Friends took me to Perbacco for lunch recently...</td>\n",
       "      <td>a month ago</td>\n",
       "    </tr>\n",
       "    <tr>\n",
       "      <th>1</th>\n",
       "      <td>Yu Qin</td>\n",
       "      <td>2</td>\n",
       "      <td>Bread came after starters, overcooked octopus,...</td>\n",
       "      <td>5 months ago</td>\n",
       "    </tr>\n",
       "    <tr>\n",
       "      <th>2</th>\n",
       "      <td>Cel B</td>\n",
       "      <td>5</td>\n",
       "      <td>Such a great experience! Food was phenomenal a...</td>\n",
       "      <td>a week ago</td>\n",
       "    </tr>\n",
       "    <tr>\n",
       "      <th>3</th>\n",
       "      <td>LoMo Phillips</td>\n",
       "      <td>5</td>\n",
       "      <td>Perbacco is an old school Italian spot disguis...</td>\n",
       "      <td>4 months ago</td>\n",
       "    </tr>\n",
       "    <tr>\n",
       "      <th>4</th>\n",
       "      <td>Patty Kong</td>\n",
       "      <td>5</td>\n",
       "      <td>I've been to Perbacco several times and have e...</td>\n",
       "      <td>7 months ago</td>\n",
       "    </tr>\n",
       "  </tbody>\n",
       "</table>\n",
       "</div>"
      ],
      "text/plain": [
       "     author_name  rating                                               text  \\\n",
       "0   Laura Peters       5  Friends took me to Perbacco for lunch recently...   \n",
       "1         Yu Qin       2  Bread came after starters, overcooked octopus,...   \n",
       "2          Cel B       5  Such a great experience! Food was phenomenal a...   \n",
       "3  LoMo Phillips       5  Perbacco is an old school Italian spot disguis...   \n",
       "4     Patty Kong       5  I've been to Perbacco several times and have e...   \n",
       "\n",
       "  relative_time_description  \n",
       "0               a month ago  \n",
       "1              5 months ago  \n",
       "2                a week ago  \n",
       "3              4 months ago  \n",
       "4              7 months ago  "
      ]
     },
     "execution_count": 17,
     "metadata": {},
     "output_type": "execute_result"
    }
   ],
   "source": [
    "# Convert reviews to a DataFrame\n",
    "reviews_df = pd.DataFrame(reviews)\n",
    "reviews_df.head()"
   ]
  },
  {
   "cell_type": "code",
   "execution_count": null,
   "metadata": {},
   "outputs": [],
   "source": [
    "# Run this block sparingly\n",
    "\n",
    "# Extract photo URLs\n",
    "photo_urls = get_photo_urls(place_details, API_KEY)\n",
    "print(\"\\nPhoto URLs:\")\n",
    "for url in photo_urls:\n",
    "    print(url)"
   ]
  },
  {
   "cell_type": "code",
   "execution_count": 19,
   "metadata": {},
   "outputs": [
    {
     "data": {
      "text/html": [
       "<div>\n",
       "<style scoped>\n",
       "    .dataframe tbody tr th:only-of-type {\n",
       "        vertical-align: middle;\n",
       "    }\n",
       "\n",
       "    .dataframe tbody tr th {\n",
       "        vertical-align: top;\n",
       "    }\n",
       "\n",
       "    .dataframe thead th {\n",
       "        text-align: right;\n",
       "    }\n",
       "</style>\n",
       "<table border=\"1\" class=\"dataframe\">\n",
       "  <thead>\n",
       "    <tr style=\"text-align: right;\">\n",
       "      <th></th>\n",
       "      <th>photo_url</th>\n",
       "    </tr>\n",
       "  </thead>\n",
       "  <tbody>\n",
       "    <tr>\n",
       "      <th>0</th>\n",
       "      <td>https://maps.googleapis.com/maps/api/place/pho...</td>\n",
       "    </tr>\n",
       "    <tr>\n",
       "      <th>1</th>\n",
       "      <td>https://maps.googleapis.com/maps/api/place/pho...</td>\n",
       "    </tr>\n",
       "    <tr>\n",
       "      <th>2</th>\n",
       "      <td>https://maps.googleapis.com/maps/api/place/pho...</td>\n",
       "    </tr>\n",
       "    <tr>\n",
       "      <th>3</th>\n",
       "      <td>https://maps.googleapis.com/maps/api/place/pho...</td>\n",
       "    </tr>\n",
       "    <tr>\n",
       "      <th>4</th>\n",
       "      <td>https://maps.googleapis.com/maps/api/place/pho...</td>\n",
       "    </tr>\n",
       "  </tbody>\n",
       "</table>\n",
       "</div>"
      ],
      "text/plain": [
       "                                           photo_url\n",
       "0  https://maps.googleapis.com/maps/api/place/pho...\n",
       "1  https://maps.googleapis.com/maps/api/place/pho...\n",
       "2  https://maps.googleapis.com/maps/api/place/pho...\n",
       "3  https://maps.googleapis.com/maps/api/place/pho...\n",
       "4  https://maps.googleapis.com/maps/api/place/pho..."
      ]
     },
     "execution_count": 19,
     "metadata": {},
     "output_type": "execute_result"
    }
   ],
   "source": [
    "# Convert photo URLs to a DataFrame\n",
    "photo_urls_df = pd.DataFrame({'photo_url': photo_urls})\n",
    "photo_urls_df.head()"
   ]
  },
  {
   "cell_type": "markdown",
   "metadata": {},
   "source": [
    "## Save Data to CSV"
   ]
  },
  {
   "cell_type": "code",
   "execution_count": null,
   "metadata": {},
   "outputs": [],
   "source": [
    "all_places_data.to_csv('travel_places_data.csv', index=False)\n",
    "reviews_df.to_csv('place_reviews.csv', index=False)\n",
    "photo_urls_df.to_csv('place_photos.csv', index=False)"
   ]
  },
  {
   "cell_type": "markdown",
   "metadata": {},
   "source": [
    "## Data Exploration & Preparation"
   ]
  },
  {
   "cell_type": "code",
   "execution_count": 20,
   "metadata": {},
   "outputs": [
    {
     "data": {
      "text/html": [
       "<div>\n",
       "<style scoped>\n",
       "    .dataframe tbody tr th:only-of-type {\n",
       "        vertical-align: middle;\n",
       "    }\n",
       "\n",
       "    .dataframe tbody tr th {\n",
       "        vertical-align: top;\n",
       "    }\n",
       "\n",
       "    .dataframe thead th {\n",
       "        text-align: right;\n",
       "    }\n",
       "</style>\n",
       "<table border=\"1\" class=\"dataframe\">\n",
       "  <thead>\n",
       "    <tr style=\"text-align: right;\">\n",
       "      <th></th>\n",
       "      <th>rating</th>\n",
       "      <th>user_ratings_total</th>\n",
       "      <th>latitude</th>\n",
       "      <th>longitude</th>\n",
       "    </tr>\n",
       "  </thead>\n",
       "  <tbody>\n",
       "    <tr>\n",
       "      <th>count</th>\n",
       "      <td>40.000000</td>\n",
       "      <td>40.0000</td>\n",
       "      <td>40.000000</td>\n",
       "      <td>40.000000</td>\n",
       "    </tr>\n",
       "    <tr>\n",
       "      <th>mean</th>\n",
       "      <td>4.470000</td>\n",
       "      <td>8292.5000</td>\n",
       "      <td>37.788080</td>\n",
       "      <td>-122.412906</td>\n",
       "    </tr>\n",
       "    <tr>\n",
       "      <th>std</th>\n",
       "      <td>0.184252</td>\n",
       "      <td>20082.4329</td>\n",
       "      <td>0.013724</td>\n",
       "      <td>0.019994</td>\n",
       "    </tr>\n",
       "    <tr>\n",
       "      <th>min</th>\n",
       "      <td>3.800000</td>\n",
       "      <td>156.0000</td>\n",
       "      <td>37.752646</td>\n",
       "      <td>-122.468676</td>\n",
       "    </tr>\n",
       "    <tr>\n",
       "      <th>25%</th>\n",
       "      <td>4.400000</td>\n",
       "      <td>1162.0000</td>\n",
       "      <td>37.778396</td>\n",
       "      <td>-122.419577</td>\n",
       "    </tr>\n",
       "    <tr>\n",
       "      <th>50%</th>\n",
       "      <td>4.500000</td>\n",
       "      <td>2889.5000</td>\n",
       "      <td>37.791441</td>\n",
       "      <td>-122.407038</td>\n",
       "    </tr>\n",
       "    <tr>\n",
       "      <th>75%</th>\n",
       "      <td>4.600000</td>\n",
       "      <td>7561.2500</td>\n",
       "      <td>37.796232</td>\n",
       "      <td>-122.400727</td>\n",
       "    </tr>\n",
       "    <tr>\n",
       "      <th>max</th>\n",
       "      <td>4.800000</td>\n",
       "      <td>125648.0000</td>\n",
       "      <td>37.808673</td>\n",
       "      <td>-122.389042</td>\n",
       "    </tr>\n",
       "  </tbody>\n",
       "</table>\n",
       "</div>"
      ],
      "text/plain": [
       "          rating  user_ratings_total   latitude   longitude\n",
       "count  40.000000             40.0000  40.000000   40.000000\n",
       "mean    4.470000           8292.5000  37.788080 -122.412906\n",
       "std     0.184252          20082.4329   0.013724    0.019994\n",
       "min     3.800000            156.0000  37.752646 -122.468676\n",
       "25%     4.400000           1162.0000  37.778396 -122.419577\n",
       "50%     4.500000           2889.5000  37.791441 -122.407038\n",
       "75%     4.600000           7561.2500  37.796232 -122.400727\n",
       "max     4.800000         125648.0000  37.808673 -122.389042"
      ]
     },
     "execution_count": 20,
     "metadata": {},
     "output_type": "execute_result"
    }
   ],
   "source": [
    "all_places_data.describe()"
   ]
  },
  {
   "cell_type": "code",
   "execution_count": 21,
   "metadata": {},
   "outputs": [
    {
     "data": {
      "image/png": "[encoded data removed]",
      "text/plain": [
       "<Figure size 800x600 with 1 Axes>"
      ]
     },
     "metadata": {},
     "output_type": "display_data"
    }
   ],
   "source": [
    "# Plot distribution of ratings\n",
    "plt.figure(figsize=(8, 6))\n",
    "all_places_data['rating'].dropna().hist(bins=20, color='skyblue')\n",
    "plt.title('Distribution of Ratings')\n",
    "plt.xlabel('Rating')\n",
    "plt.ylabel('Frequency')\n",
    "plt.show()"
   ]
  },
  {
   "cell_type": "code",
   "execution_count": 22,
   "metadata": {},
   "outputs": [
    {
     "data": {
      "text/html": [
       "<div style=\"width:100%;\"><div style=\"position:relative;width:100%;height:0;padding-bottom:60%;\"><span style=\"color:#565656\">Make this Notebook Trusted to load map: File -> Trust Notebook</span><iframe srcdoc=\"&lt;!DOCTYPE html&gt;\n",
       "&lt;html&gt;\n",
       "&lt;head&gt;\n",
       "    \n",
       "    &lt;meta http-equiv=&quot;content-type&quot; content=&quot;text/html; charset=UTF-8&quot; /&gt;\n",
       "    \n",
       "        &lt;script&gt;\n",
       "            L_NO_TOUCH = false;\n",
       "            L_DISABLE_3D = false;\n",
       "        &lt;/script&gt;\n",
       "    \n",
       "    &lt;style&gt;html, body {width: 100%;height: 100%;margin: 0;padding: 0;}&lt;/style&gt;\n",
       "    &lt;style&gt;#map {position:absolute;top:0;bottom:0;right:0;left:0;}&lt;/style&gt;\n",
       "    &lt;script src=&quot;https://cdn.jsdelivr.net/npm/leaflet@1.9.3/dist/leaflet.js&quot;&gt;&lt;/script&gt;\n",
       "    &lt;script src=&quot;https://code.jquery.com/jquery-3.7.1.min.js&quot;&gt;&lt;/script&gt;\n",
       "    &lt;script src=&quot;https://cdn.jsdelivr.net/npm/bootstrap@5.2.2/dist/js/bootstrap.bundle.min.js&quot;&gt;&lt;/script&gt;\n",
       "    &lt;script src=&quot;https://cdnjs.cloudflare.com/ajax/libs/Leaflet.awesome-markers/2.0.2/leaflet.awesome-markers.js&quot;&gt;&lt;/script&gt;\n",
       "    &lt;link rel=&quot;stylesheet&quot; href=&quot;https://cdn.jsdelivr.net/npm/leaflet@1.9.3/dist/leaflet.css&quot;/&gt;\n",
       "    &lt;link rel=&quot;stylesheet&quot; href=&quot;https://cdn.jsdelivr.net/npm/bootstrap@5.2.2/dist/css/bootstrap.min.css&quot;/&gt;\n",
       "    &lt;link rel=&quot;stylesheet&quot; href=&quot;https://netdna.bootstrapcdn.com/bootstrap/3.0.0/css/bootstrap-glyphicons.css&quot;/&gt;\n",
       "    &lt;link rel=&quot;stylesheet&quot; href=&quot;https://cdn.jsdelivr.net/npm/@fortawesome/fontawesome-free@6.2.0/css/all.min.css&quot;/&gt;\n",
       "    &lt;link rel=&quot;stylesheet&quot; href=&quot;https://cdnjs.cloudflare.com/ajax/libs/Leaflet.awesome-markers/2.0.2/leaflet.awesome-markers.css&quot;/&gt;\n",
       "    &lt;link rel=&quot;stylesheet&quot; href=&quot;https://cdn.jsdelivr.net/gh/python-visualization/folium/folium/templates/leaflet.awesome.rotate.min.css&quot;/&gt;\n",
       "    \n",
       "            &lt;meta name=&quot;viewport&quot; content=&quot;width=device-width,\n",
       "                initial-scale=1.0, maximum-scale=1.0, user-scalable=no&quot; /&gt;\n",
       "            &lt;style&gt;\n",
       "                #map_a916dd3e893285368a922f7039c9e0c8 {\n",
       "                    position: relative;\n",
       "                    width: 100.0%;\n",
       "                    height: 100.0%;\n",
       "                    left: 0.0%;\n",
       "                    top: 0.0%;\n",
       "                }\n",
       "                .leaflet-container { font-size: 1rem; }\n",
       "            &lt;/style&gt;\n",
       "        \n",
       "    &lt;script src=&quot;https://cdn.jsdelivr.net/gh/python-visualization/folium@main/folium/templates/leaflet_heat.min.js&quot;&gt;&lt;/script&gt;\n",
       "&lt;/head&gt;\n",
       "&lt;body&gt;\n",
       "    \n",
       "    \n",
       "            &lt;div class=&quot;folium-map&quot; id=&quot;map_a916dd3e893285368a922f7039c9e0c8&quot; &gt;&lt;/div&gt;\n",
       "        \n",
       "&lt;/body&gt;\n",
       "&lt;script&gt;\n",
       "    \n",
       "    \n",
       "            var map_a916dd3e893285368a922f7039c9e0c8 = L.map(\n",
       "                &quot;map_a916dd3e893285368a922f7039c9e0c8&quot;,\n",
       "                {\n",
       "                    center: [37.788079644999996, -122.4129058775],\n",
       "                    crs: L.CRS.EPSG3857,\n",
       "                    zoom: 12,\n",
       "                    zoomControl: true,\n",
       "                    preferCanvas: false,\n",
       "                }\n",
       "            );\n",
       "\n",
       "            \n",
       "\n",
       "        \n",
       "    \n",
       "            var tile_layer_4c67c390cf4530dc62f04fe5dc8002fd = L.tileLayer(\n",
       "                &quot;https://tile.openstreetmap.org/{z}/{x}/{y}.png&quot;,\n",
       "                {&quot;attribution&quot;: &quot;\\u0026copy; \\u003ca href=\\&quot;https://www.openstreetmap.org/copyright\\&quot;\\u003eOpenStreetMap\\u003c/a\\u003e contributors&quot;, &quot;detectRetina&quot;: false, &quot;maxNativeZoom&quot;: 19, &quot;maxZoom&quot;: 19, &quot;minZoom&quot;: 0, &quot;noWrap&quot;: false, &quot;opacity&quot;: 1, &quot;subdomains&quot;: &quot;abc&quot;, &quot;tms&quot;: false}\n",
       "            );\n",
       "        \n",
       "    \n",
       "            tile_layer_4c67c390cf4530dc62f04fe5dc8002fd.addTo(map_a916dd3e893285368a922f7039c9e0c8);\n",
       "        \n",
       "    \n",
       "            var heat_map_129c7254e5a03702a57c454cd2bc3a51 = L.heatLayer(\n",
       "                [[37.7923897, -122.4104443], [37.7991021, -122.4081675], [37.79326969999999, -122.3928679], [37.7934333, -122.3993139], [37.7942072, -122.3947852], [37.7736, -122.421608], [37.7970323, -122.3997559], [37.7959588, -122.3940961], [37.7861185, -122.4115102], [37.7783424, -122.3967887], [37.7939998, -122.4023375], [37.7749009, -122.4375083], [37.7833359, -122.4069933], [37.7829132, -122.4188995], [37.7589398, -122.4122858], [37.7904926, -122.3890417], [37.7959647, -122.3934171], [37.8035212, -122.4018398], [37.75264629999999, -122.4183182], [37.789696, -122.40585], [37.8016649, -122.397348], [37.793978, -122.408083], [37.8084354, -122.4157509], [37.7784136, -122.3892168], [37.808673, -122.409821], [37.7762528, -122.4327556], [37.8023949, -122.4058222], [37.7856437, -122.4021904], [37.7857182, -122.4010508], [37.76986459999999, -122.4660947], [37.7608223, -122.4266135], [37.771469, -122.4686755], [37.8068469, -122.4051542], [37.8013783, -122.4586431], [37.8063311, -122.4217929], [37.78600259999999, -122.403672], [37.79517750000001, -122.4027787], [37.7945475, -122.4070824], [37.77549559999999, -122.4524681], [37.7842115, -122.4253924]],\n",
       "                {&quot;blur&quot;: 15, &quot;maxZoom&quot;: 18, &quot;minOpacity&quot;: 0.5, &quot;radius&quot;: 25}\n",
       "            );\n",
       "        \n",
       "    \n",
       "            heat_map_129c7254e5a03702a57c454cd2bc3a51.addTo(map_a916dd3e893285368a922f7039c9e0c8);\n",
       "        \n",
       "&lt;/script&gt;\n",
       "&lt;/html&gt;\" style=\"position:absolute;width:100%;height:100%;left:0;top:0;border:none !important;\" allowfullscreen webkitallowfullscreen mozallowfullscreen></iframe></div></div>"
      ],
      "text/plain": [
       "<folium.folium.Map at 0x136ecaed0>"
      ]
     },
     "execution_count": 22,
     "metadata": {},
     "output_type": "execute_result"
    }
   ],
   "source": [
    "# Location heatmap to show the density of places\n",
    "\n",
    "# Filter the data to get the locations (latitude and longitude)\n",
    "location_data = all_places_data[['latitude', 'longitude']].dropna()\n",
    "\n",
    "# Get the center of the map (average latitude and longitude)\n",
    "center_lat = location_data['latitude'].mean()\n",
    "center_lng = location_data['longitude'].mean()\n",
    "\n",
    "# Create a Folium map centered on the average coordinates\n",
    "mymap = folium.Map(location=[center_lat, center_lng], zoom_start=12)\n",
    "\n",
    "# Create a list of [latitude, longitude] pairs for the heatmap\n",
    "heatmap_data = [[row['latitude'], row['longitude']] for index, row in location_data.iterrows()]\n",
    "\n",
    "# Add the HeatMap layer to the map\n",
    "HeatMap(heatmap_data).add_to(mymap)\n",
    "\n",
    "# Show the map in the notebook\n",
    "mymap"
   ]
  },
  {
   "cell_type": "code",
   "execution_count": null,
   "metadata": {},
   "outputs": [],
   "source": [
    "# Save the map as an HTML file\n",
    "mymap.save('places_heatmap.html')"
   ]
  }
 ],
 "metadata": {
  "kernelspec": {
   "display_name": "Python 3 (ipykernel)",
   "language": "python",
   "name": "python3"
  },
  "language_info": {
   "codemirror_mode": {
    "name": "ipython",
    "version": 3
   },
   "file_extension": ".py",
   "mimetype": "text/x-python",
   "name": "python",
   "nbconvert_exporter": "python",
   "pygments_lexer": "ipython3",
   "version": "3.11.5"
  }
 },
 "nbformat": 4,
 "nbformat_minor": 2
}
