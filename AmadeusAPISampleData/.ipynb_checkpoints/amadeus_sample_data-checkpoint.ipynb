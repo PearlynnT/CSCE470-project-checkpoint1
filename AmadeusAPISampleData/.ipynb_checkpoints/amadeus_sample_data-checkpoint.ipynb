{
 "cells": [
  {
   "cell_type": "markdown",
   "metadata": {},
   "source": [
    "# Amadeus Sample Data"
   ]
  },
  {
   "cell_type": "markdown",
   "metadata": {},
   "source": [
    "## Import Packages"
   ]
  },
  {
   "cell_type": "code",
   "execution_count": 1,
   "metadata": {
    "vscode": {
     "languageId": "powershell"
    }
   },
   "outputs": [
    {
     "name": "stdout",
     "output_type": "stream",
     "text": [
      "Requirement already satisfied: python-dotenv in /Users/pearlynn/anaconda3/lib/python3.11/site-packages (0.21.0)\r\n"
     ]
    }
   ],
   "source": [
    "!pip install python-dotenv"
   ]
  },
  {
   "cell_type": "code",
   "execution_count": 2,
   "metadata": {},
   "outputs": [
    {
     "data": {
      "text/plain": [
       "True"
      ]
     },
     "execution_count": 2,
     "metadata": {},
     "output_type": "execute_result"
    }
   ],
   "source": [
    "import requests\n",
    "import pandas as pd\n",
    "import json\n",
    "import os\n",
    "import matplotlib.pyplot as plt\n",
    "from collections import Counter\n",
    "from dotenv import load_dotenv\n",
    "\n",
    "load_dotenv()"
   ]
  },
  {
   "cell_type": "markdown",
   "metadata": {},
   "source": [
    "## Authenticate"
   ]
  },
  {
   "cell_type": "code",
   "execution_count": 3,
   "metadata": {},
   "outputs": [
    {
     "name": "stdout",
     "output_type": "stream",
     "text": [
      "Successfully authenticated.\n"
     ]
    }
   ],
   "source": [
    "def get_amadeus_token(client_id, client_secret):\n",
    "    url = \"https://test.api.amadeus.com/v1/security/oauth2/token\"\n",
    "    headers = {'Content-Type': 'application/x-www-form-urlencoded'}\n",
    "    body = {\n",
    "        'grant_type': 'client_credentials',\n",
    "        'client_id': client_id,\n",
    "        'client_secret': client_secret\n",
    "    }\n",
    "    \n",
    "    response = requests.post(url, headers=headers, data=body)\n",
    "    \n",
    "    if response.status_code == 200:\n",
    "        token = response.json()['access_token']\n",
    "        print(\"Successfully authenticated.\")\n",
    "        return token\n",
    "    else:\n",
    "        print(f\"Error: {response.status_code}, {response.text}\")\n",
    "        return None\n",
    "\n",
    "client_id = os.environ.get('CLIENT_ID')\n",
    "client_secret = os.environ.get('CLIENT_SECRET')\n",
    "\n",
    "token = get_amadeus_token(client_id, client_secret)"
   ]
  },
  {
   "cell_type": "markdown",
   "metadata": {},
   "source": [
    "## Collect Data"
   ]
  },
  {
   "cell_type": "code",
   "execution_count": 4,
   "metadata": {},
   "outputs": [
    {
     "name": "stdout",
     "output_type": "stream",
     "text": [
      "Error fetching flight data: 400, {\"errors\":[{\"status\":400,\"code\":32171,\"title\":\"MANDATORY DATA MISSING\",\"detail\":\"adults needed\",\"source\":{\"pointer\":\"adults\"}}]}\n",
      "Error fetching flight data: 400, {\"errors\":[{\"status\":400,\"code\":32171,\"title\":\"MANDATORY DATA MISSING\",\"detail\":\"adults needed\",\"source\":{\"pointer\":\"adults\"}}]}\n",
      "Error fetching flight data: 400, {\"errors\":[{\"status\":400,\"code\":32171,\"title\":\"MANDATORY DATA MISSING\",\"detail\":\"adults needed\",\"source\":{\"pointer\":\"adults\"}}]}\n",
      "[]\n"
     ]
    }
   ],
   "source": [
    "# Run this block sparingly\n",
    "\n",
    "# Function to collect flight data\n",
    "def collect_flight_data(token, origin, destination, departure_date):\n",
    "    url = f\"https://test.api.amadeus.com/v2/shopping/flight-offers?originLocationCode={origin}&destinationLocationCode={destination}&departureDate={departure_date}\"\n",
    "    headers = {'Authorization': f'Bearer {token}'}\n",
    "    \n",
    "    response = requests.get(url, headers=headers)\n",
    "    \n",
    "    if response.status_code == 200:\n",
    "        data = response.json()['data']\n",
    "        return data\n",
    "    else:\n",
    "        print(f\"Error fetching flight data: {response.status_code}, {response.text}\")\n",
    "        return []\n",
    "\n",
    "# Example: Collect flight data for a few destinations\n",
    "destinations = ['TYO', 'PAR', 'BKK']  # Tokyo, Paris, Bangkok\n",
    "flight_data = []\n",
    "\n",
    "for dest in destinations:\n",
    "    flights = collect_flight_data(token, 'NYC', dest, '2024-11-01')\n",
    "    flight_data.extend(flights)\n",
    "\n",
    "# Display sample data\n",
    "print(json.dumps(flight_data[:2], indent=2))"
   ]
  },
  {
   "cell_type": "code",
   "execution_count": null,
   "metadata": {},
   "outputs": [],
   "source": [
    "# Run this block sparingly\n",
    "\n",
    "# Function to collect Points of Interest (POI) data\n",
    "def collect_poi_data(token, latitude, longitude):\n",
    "    url = f\"https://test.api.amadeus.com/v1/reference-data/locations/pois?latitude={latitude}&longitude={longitude}&radius=5\"\n",
    "    headers = {'Authorization': f'Bearer {token}'}\n",
    "    \n",
    "    response = requests.get(url, headers=headers)\n",
    "    \n",
    "    if response.status_code == 200:\n",
    "        data = response.json()['data']\n",
    "        return data\n",
    "    else:\n",
    "        print(f\"Error fetching POI data: {response.status_code}, {response.text}\")\n",
    "        return []\n",
    "\n",
    "# Example: Collect POI data for Tokyo (latitude: 35.6762, longitude: 139.6503)\n",
    "poi_data = collect_poi_data(token, 35.6762, 139.6503)\n",
    "\n",
    "# Display sample data\n",
    "print(json.dumps(poi_data[:2], indent=2))"
   ]
  },
  {
   "cell_type": "code",
   "execution_count": null,
   "metadata": {},
   "outputs": [],
   "source": [
    "# Function to collect hotel data\n",
    "def collect_hotel_data(token, city_code, check_in_date, check_out_date=None):\n",
    "    url = f\"https://test.api.amadeus.com/v2/shopping/hotel-offers?cityCode={city_code}&checkInDate={check_in_date}\"\n",
    "    \n",
    "    if check_out_date:\n",
    "        url += f\"&checkOutDate={check_out_date}\"\n",
    "    \n",
    "    headers = {'Authorization': f'Bearer {token}'}\n",
    "    \n",
    "    response = requests.get(url, headers=headers)\n",
    "    \n",
    "    if response.status_code == 200:\n",
    "        data = response.json()['data']\n",
    "        return data\n",
    "    else:\n",
    "        print(f\"Error fetching hotel data: {response.status_code}, {response.text}\")\n",
    "        return []\n",
    "\n",
    "# Example: Collect hotel data for Tokyo, check-in on 2024-12-01\n",
    "city_code = 'TYO'  # Tokyo\n",
    "check_in_date = '2024-12-01'\n",
    "check_out_date = '2024-12-05'\n",
    "\n",
    "hotel_data = collect_hotel_data(token, city_code, check_in_date, check_out_date)\n",
    "\n",
    "# Display sample data\n",
    "print(json.dumps(hotel_data[:2], indent=2))"
   ]
  },
  {
   "cell_type": "code",
   "execution_count": null,
   "metadata": {},
   "outputs": [],
   "source": [
    "# Parse flight data into a DataFrame\n",
    "def parse_flight_data(flight_data):\n",
    "    flights_list = []\n",
    "    for flight in flight_data:\n",
    "        price = flight['price']['total']\n",
    "        origin = flight['itineraries'][0]['segments'][0]['departure']['iataCode']\n",
    "        destination = flight['itineraries'][0]['segments'][0]['arrival']['iataCode']\n",
    "        duration = flight['itineraries'][0]['duration']\n",
    "        stopovers = len(flight['itineraries'][0]['segments']) - 1\n",
    "        flights_list.append([origin, destination, price, duration, stopovers])\n",
    "    \n",
    "    # Create a DataFrame\n",
    "    df_flights = pd.DataFrame(flights_list, columns=['Origin', 'Destination', 'Price', 'Duration', 'Stopovers'])\n",
    "    return df_flights\n",
    "\n",
    "# Convert flight data to a DataFrame\n",
    "df_flights = parse_flight_data(flight_data)\n",
    "df_flights.head()"
   ]
  },
  {
   "cell_type": "code",
   "execution_count": null,
   "metadata": {},
   "outputs": [],
   "source": [
    "# Parse hotel data into a DataFrame\n",
    "def parse_hotel_data(hotel_data):\n",
    "    hotels_list = []\n",
    "    for hotel_offer in hotel_data:\n",
    "        hotel_name = hotel_offer['hotel']['name']\n",
    "        hotel_lat = hotel_offer['hotel']['latitude']\n",
    "        hotel_lon = hotel_offer['hotel']['longitude']\n",
    "        hotel_rating = hotel_offer['hotel'].get('rating', 'N/A')  # Some hotels may not have a rating\n",
    "        hotel_address = ', '.join(hotel_offer['hotel']['address']['lines'])\n",
    "        price_total = hotel_offer['offers'][0]['price']['total']\n",
    "        currency = hotel_offer['offers'][0]['price']['currency']\n",
    "        hotels_list.append([hotel_name, hotel_lat, hotel_lon, hotel_rating, hotel_address, price_total, currency])\n",
    "    \n",
    "    # Create a DataFrame\n",
    "    df_hotels = pd.DataFrame(hotels_list, columns=['Name', 'Latitude', 'Longitude', 'Rating', 'Address', 'Price', 'Currency'])\n",
    "    return df_hotels\n",
    "\n",
    "# Convert hotel data to a DataFrame\n",
    "df_hotels = parse_hotel_data(hotel_data)\n",
    "df_hotels.head()"
   ]
  },
  {
   "cell_type": "markdown",
   "metadata": {},
   "source": [
    "## Save Data to CSV"
   ]
  },
  {
   "cell_type": "code",
   "execution_count": null,
   "metadata": {},
   "outputs": [],
   "source": [
    "# Save flight data to a CSV file\n",
    "df_flights.to_csv('flight_data.csv', index=False)\n",
    "\n",
    "# Save POI data to a CSV (if structured)\n",
    "df_poi = pd.DataFrame(poi_data)\n",
    "df_poi.to_csv('poi_data.csv', index=False)\n",
    "\n",
    "# Save hotel data to a CSV file\n",
    "df_hotels.to_csv('hotel_data.csv', index=False)"
   ]
  },
  {
   "cell_type": "markdown",
   "metadata": {},
   "source": [
    "## Data Exploration & Preparation"
   ]
  },
  {
   "cell_type": "code",
   "execution_count": null,
   "metadata": {},
   "outputs": [],
   "source": [
    "# Plot flight price distribution\n",
    "plt.hist(df_flights['Price'].astype(float), bins=10, color='skyblue')\n",
    "plt.title('Flight Price Distribution')\n",
    "plt.xlabel('Price ($)')\n",
    "plt.ylabel('Number of Flights')\n",
    "plt.show()"
   ]
  },
  {
   "cell_type": "code",
   "execution_count": null,
   "metadata": {},
   "outputs": [],
   "source": [
    "# Bar chart for stopovers per destination\n",
    "df_flights.groupby('Destination')['Stopovers'].mean().plot(kind='bar', color='orange')\n",
    "plt.title('Average Number of Stopovers per Destination')\n",
    "plt.ylabel('Average Stopovers')\n",
    "plt.show()"
   ]
  },
  {
   "cell_type": "code",
   "execution_count": null,
   "metadata": {},
   "outputs": [],
   "source": [
    "# Parse POI data to count categories\n",
    "def count_poi_categories(poi_data):\n",
    "    categories = []\n",
    "    for poi in poi_data:\n",
    "        categories.append(poi['category'])\n",
    "    \n",
    "    category_counts = Counter(categories)\n",
    "    return category_counts\n",
    "\n",
    "# Count the categories\n",
    "category_counts = count_poi_categories(poi_data)\n",
    "\n",
    "# Display the category counts\n",
    "print(category_counts)"
   ]
  },
  {
   "cell_type": "code",
   "execution_count": null,
   "metadata": {},
   "outputs": [],
   "source": [
    "# Plot the pie chart for POI categories\n",
    "def plot_poi_pie_chart(category_counts):\n",
    "    labels = category_counts.keys()\n",
    "    sizes = category_counts.values()\n",
    "    \n",
    "    # Create pie chart\n",
    "    plt.figure(figsize=(8, 8))\n",
    "    plt.pie(sizes, labels=labels, autopct='%1.1f%%', startangle=140, colors=plt.cm.Paired.colors)\n",
    "    \n",
    "    # Equal aspect ratio ensures that pie is drawn as a circle\n",
    "    plt.axis('equal')\n",
    "    plt.title('Distribution of Points of Interest Categories')\n",
    "    plt.show()\n",
    "\n",
    "# Plot the pie chart\n",
    "plot_poi_pie_chart(category_counts)"
   ]
  },
  {
   "cell_type": "code",
   "execution_count": null,
   "metadata": {},
   "outputs": [],
   "source": [
    "\n",
    "# Convert hotel price to float for plotting\n",
    "df_hotels['Price'] = df_hotels['Price'].astype(float)\n",
    "\n",
    "# Plot hotel price distribution\n",
    "plt.hist(df_hotels['Price'], bins=10, color='lightgreen')\n",
    "plt.title('Hotel Price Distribution in Tokyo')\n",
    "plt.xlabel('Price (in local currency)')\n",
    "plt.ylabel('Number of Hotels')\n",
    "plt.show()"
   ]
  }
 ],
 "metadata": {
  "kernelspec": {
   "display_name": "Python 3 (ipykernel)",
   "language": "python",
   "name": "python3"
  },
  "language_info": {
   "codemirror_mode": {
    "name": "ipython",
    "version": 3
   },
   "file_extension": ".py",
   "mimetype": "text/x-python",
   "name": "python",
   "nbconvert_exporter": "python",
   "pygments_lexer": "ipython3",
   "version": "3.11.5"
  }
 },
 "nbformat": 4,
 "nbformat_minor": 2
}
